{
 "cells": [
  {
   "cell_type": "markdown",
   "metadata": {},
   "source": [
    "匯入套件"
   ]
  },
  {
   "cell_type": "code",
   "execution_count": 23,
   "metadata": {},
   "outputs": [],
   "source": [
    "import pandas as pd \n",
    "import numpy as np\n",
    "import matplotlib.pyplot as plt"
   ]
  },
  {
   "cell_type": "markdown",
   "metadata": {},
   "source": [
    "定義模型架構"
   ]
  },
  {
   "cell_type": "code",
   "execution_count": 24,
   "metadata": {},
   "outputs": [],
   "source": [
    "# Plotting Class\n",
    "class Plotting:\n",
    "    # Constructor initialize the model(get model from NeuralNetwork class)\n",
    "    def __init__(self, model):\n",
    "        self.model = model\n",
    "\n",
    "    def trainLoss_plot(self):\n",
    "        plt.plot(self.model.rmse_list)\n",
    "        plt.xlabel('Epochs')\n",
    "        plt.ylabel('RMSE')\n",
    "        plt.title('RMSE over epochs')\n",
    "        plt.show()\n",
    "\n",
    "    # defined regression classify function\n",
    "    def predict_plot(self):\n",
    "        # get model's df and turn (predict_df, true_df) to ndarray (by values.ravel())\n",
    "        predict = self.model.predict_df.values.ravel()  \n",
    "        true = self.model.true_df.values.ravel()\n",
    "\n",
    "        # Create a color map\n",
    "        colors = {1:'red', 2:'green', 3:'blue'}\n",
    "        # Create a scatter plot with different colors for each class\n",
    "        plt.scatter(true, predict, c=[colors[i] for i in true])\n",
    "        plt.xlabel('true')\n",
    "        plt.ylabel('predict')\n",
    "        plt.title('predict vs true')\n",
    "        plt.show()"
   ]
  },
  {
   "cell_type": "markdown",
   "metadata": {},
   "source": [
    "定義激活函式 (方便未來更改)"
   ]
  },
  {
   "cell_type": "code",
   "execution_count": 25,
   "metadata": {},
   "outputs": [],
   "source": [
    "# Activation Functions Class\n",
    "class ActivationFunctions:\n",
    "    # Constructor static methods\n",
    "    @staticmethod\n",
    "    def purelin(x):\n",
    "        return x\n",
    "\n",
    "    @staticmethod\n",
    "    def dpurelin(x):\n",
    "        return np.ones_like(x)\n",
    "\n",
    "    @staticmethod\n",
    "    def logsig(x):\n",
    "        return 1 / (1 + np.exp(-x))\n",
    "\n",
    "    @staticmethod\n",
    "    def dlogsig(x):\n",
    "        fx = ActivationFunctions.logsig(x)\n",
    "        return fx * (1 - fx)"
   ]
  },
  {
   "cell_type": "code",
   "execution_count": 26,
   "metadata": {},
   "outputs": [],
   "source": [
    "class ProcessedDataset:\n",
    "    def __init__(self):\n",
    "        # load dataset\n",
    "        self.input_dataset = pd.read_csv('./datasets/iris_in.csv', header=None)\n",
    "        self.output_dataset = pd.read_csv('./datasets/iris_out.csv', header=None)\n",
    "        self.one_hot_encoding()\n",
    "\n",
    "    def one_hot_encoding(self):\n",
    "        # 將資料轉換為 one-hot 編碼\n",
    "        self.oneHot_outoutput_datasetputDataset = pd.get_dummies(self.output_dataset[0]).astype(int)\n",
    "        \n",
    "    def get_processedDatasets(self):\n",
    "        return self.input_dataset, self.output_dataset"
   ]
  },
  {
   "cell_type": "code",
   "execution_count": 27,
   "metadata": {},
   "outputs": [],
   "source": [
    "# Neural Network Class\n",
    "class NeuralNetwork:\n",
    "    # Constructor initialize the hyperparameters & weights & rmse_list\n",
    "    def __init__(self, n, split_ratio, epochs, learning_rate):\n",
    "\n",
    "        # Initialize Plotting class (Delegation plot function to Plotting class)\n",
    "        # Help me to change plot's ways in the future\n",
    "        self.plotting = Plotting(self)\n",
    "        \n",
    "        # Initialize all activation Functions \n",
    "        # from ActivationFunctions class to get activation functions\n",
    "        # Help me to pass function_variable to other functions\n",
    "        self.purelin = ActivationFunctions.purelin\n",
    "        self.dpurelin = ActivationFunctions.dpurelin\n",
    "        self.logsig = ActivationFunctions.logsig\n",
    "        self.dlogsig = ActivationFunctions.dlogsig\n",
    "\n",
    "        # Initialize load_dataset function\n",
    "        processedDataset_model = ProcessedDataset()\n",
    "        self.input_data, self.output_data = processedDataset_model.get_processedDatasets()\n",
    "\n",
    "        # get Hyperparameters\n",
    "        self.n = n\n",
    "        self.split_ratio = split_ratio\n",
    "        self.epochs = epochs\n",
    "        self.learning_rate = learning_rate\n",
    "        # Initialize rmse_list\n",
    "        self.rmse_list = []\n",
    "\n",
    "    def load_dataset(self):\n",
    "        # # load dataset\n",
    "        # self.input_data = pd.read_csv('./datasets/iris_in.csv', header=None)\n",
    "        # self.output_data = pd.read_csv('./datasets/iris_out.csv', header=None)\n",
    "\n",
    "        # get split dataset ratio(eq: train: 50%, test: 50%)\n",
    "        self.idx = int(len(self.input_data) * self.split_ratio)\n",
    "        # train dataset\n",
    "        self.train_x = self.input_data.iloc[:self.idx, :]\n",
    "        self.train_y = self.output_data.iloc[:self.idx, :]\n",
    "        # test dataset\n",
    "        self.test_x = self.input_data.iloc[self.idx:, :]\n",
    "        self.test_y = self.output_data.iloc[self.idx:, :]\n",
    "\n",
    "        # get input_size\n",
    "        input_size = len(self.train_x.columns)\n",
    "        # get input_size\n",
    "        output_size = len(self.train_y.columns)\n",
    "\n",
    "        # Initialize weights\n",
    "        self.w_out = np.random.rand(self.n, output_size)*2-1\n",
    "        self.w_hid = np.random.rand(input_size, self.n)*2-1\n",
    "\n",
    "    # defined forward propagation function\n",
    "    def forward_propagation(self, input_vector):\n",
    "\n",
    "        # pls check the shape of input_vector shape needs(1,4), ex: 4 = features(input_sizes)\n",
    "        sum_hid = input_vector @ self.w_hid #(1,4)@(4,n) = (1,n)\n",
    "        a_hid = self.logsig(sum_hid) #(1,n) n=hidden layer node number\n",
    "\n",
    "        sum_out = a_hid @ self.w_out #(1,n) @ (n,output_size) = (1, output_size)\n",
    "        a_out = self.purelin(sum_out) # (1, output_size)\n",
    "\n",
    "        return a_hid, a_out\n",
    "    \n",
    "    # defined back propagation function\n",
    "    def Back_propagation(self, error_vector, a_out, a_hid, input_vector, learning_rate):\n",
    "        # for example output_size = 3\n",
    "        # error shape = (1,output_size), =(1,3)\n",
    "        # get Delta_out and Delta_hid \n",
    "        Delta_out = (error_vector) * self.dpurelin(a_out) #(1,output_size)*(1,output_size) = (1,output_size)\n",
    "        Delta_hid = Delta_out @ self.w_out.T #(1,output_size)@ (output_size,n) = (1,n)\n",
    "\n",
    "        # update weights\n",
    "        # 1.weight_out\n",
    "        self.w_out += learning_rate * a_hid.T @ Delta_out #(n,output_size) + lr* (n,1) @ (1,output_size) = (n,output_size)\n",
    "\n",
    "        # 2.weight_hid\n",
    "        self.w_hid += learning_rate * input_vector.T @ (Delta_hid * self.dlogsig(a_hid)) #(input_sizes,n) + lr* (input_sizes,1) @ [(1,n)*(1,n)] = (input_sizes,n)\n",
    "\n",
    "        # return updated weights\n",
    "        return self.w_out, self.w_hid\n",
    "    \n",
    "    # defined train function\n",
    "    def train(self):\n",
    "        # iterate epochs times(and then we will run down all training process)\n",
    "        for epoch in range(self.epochs):\n",
    "            # iterate over each training data and update weights\n",
    "            mse_list = [self.train_step(i) for i in range(len(self.train_x))]\n",
    "            # append the rmse of each epoch to rmse_list\n",
    "            self.rmse_list.append(np.sqrt(np.mean(mse_list)))     \n",
    "            # print the epoch and rmse\n",
    "            print(f'Epoch: {epoch+1}, RMSE: {self.rmse_list[-1]:.4f}')\n",
    "    \n",
    "    # defined train_step function (run over each training data and update weights is one epoch)\n",
    "    def train_step(self,i):\n",
    "        # get input vector(也就是input_data的每一筆數據, reshape成(1,features=input_sizes))\n",
    "        input_vector = np.array(self.train_x.iloc[i]).reshape(1, -1) # (1, input_sizes)\n",
    "        # do forward propagation(得到a_hid, a_out)\n",
    "        a_hid, a_out = self.forward_propagation(input_vector)\n",
    "\n",
    "        # get true_value and pred_value\n",
    "        true_vector = np.array(self.train_y.iloc[i]).reshape(1, -1) # (1, output_size)\n",
    "\n",
    "        pred_vector = a_out   # (1, output_size)\n",
    "\n",
    "        error_vector = true_vector - pred_vector # (1, output_size)\n",
    "        \n",
    "        # do back propagation(利用error去更新權重w_out, w_hid)\n",
    "        self.w_out, self.w_hid = self.Back_propagation(error_vector, a_out, a_hid, input_vector, self.learning_rate)\n",
    "        \n",
    "        return np.square(error_vector).sum()\n",
    "    \n",
    "    # defined predict function and return predict_df and true_df\n",
    "    def predict(self):\n",
    "        _, predict_value = self.forward_propagation(self.test_x) #return a_out就好\n",
    "        self.predict_df = pd.DataFrame(predict_value)  # pred true (turn to dataframe from tuple)\n",
    "        self.true_df = self.test_y # ground true (test_y)\n",
    "        return self.predict_df, self.true_df\n",
    "    \n",
    "    def save_df(self):\n",
    "        self.predict_df.to_csv('./result/predict.csv', index=False, header=None)\n",
    "        self.true_df.to_csv('./result/true.csv', index=False, header=None)\n",
    "\n",
    "    # use Plotting class to plot loss and predict\n",
    "    def loss_plot(self):\n",
    "        self.plotting.trainLoss_plot()\n",
    "    \n",
    "    def predict_plot(self):\n",
    "        self.plotting.predict_plot()"
   ]
  },
  {
   "cell_type": "code",
   "execution_count": 28,
   "metadata": {},
   "outputs": [],
   "source": [
    "# @ = matmul() is matrix multiplication(矩陣相乘)\n",
    "# * = dot() is element-wise multiplication(元素相乘)"
   ]
  },
  {
   "cell_type": "markdown",
   "metadata": {},
   "source": [
    "定義超參數"
   ]
  },
  {
   "cell_type": "code",
   "execution_count": 29,
   "metadata": {},
   "outputs": [],
   "source": [
    "hyperparameters = {\n",
    "    'n': 20,                 # n: number of hidden neurons\n",
    "    'split_ratio': 0.5,      # split_ratio: train/test split ratio\n",
    "    'epochs': 50,          # epochs: number of training epochs\n",
    "    'learning_rate': 0.05   # learning_rate: learning rate\n",
    "}"
   ]
  },
  {
   "cell_type": "markdown",
   "metadata": {},
   "source": [
    "執行，並畫圖"
   ]
  },
  {
   "cell_type": "code",
   "execution_count": 30,
   "metadata": {},
   "outputs": [
    {
     "name": "stdout",
     "output_type": "stream",
     "text": [
      "Epoch: 1, RMSE: 0.8160\n",
      "Epoch: 2, RMSE: 0.4398\n",
      "Epoch: 3, RMSE: 0.3227\n",
      "Epoch: 4, RMSE: 0.2948\n",
      "Epoch: 5, RMSE: 0.2889\n",
      "Epoch: 6, RMSE: 0.2862\n",
      "Epoch: 7, RMSE: 0.2836\n",
      "Epoch: 8, RMSE: 0.2810\n",
      "Epoch: 9, RMSE: 0.2784\n",
      "Epoch: 10, RMSE: 0.2760\n",
      "Epoch: 11, RMSE: 0.2737\n",
      "Epoch: 12, RMSE: 0.2717\n",
      "Epoch: 13, RMSE: 0.2698\n",
      "Epoch: 14, RMSE: 0.2681\n",
      "Epoch: 15, RMSE: 0.2665\n",
      "Epoch: 16, RMSE: 0.2651\n",
      "Epoch: 17, RMSE: 0.2638\n",
      "Epoch: 18, RMSE: 0.2626\n",
      "Epoch: 19, RMSE: 0.2615\n",
      "Epoch: 20, RMSE: 0.2605\n",
      "Epoch: 21, RMSE: 0.2596\n",
      "Epoch: 22, RMSE: 0.2587\n",
      "Epoch: 23, RMSE: 0.2580\n",
      "Epoch: 24, RMSE: 0.2573\n",
      "Epoch: 25, RMSE: 0.2566\n",
      "Epoch: 26, RMSE: 0.2560\n",
      "Epoch: 27, RMSE: 0.2555\n",
      "Epoch: 28, RMSE: 0.2550\n",
      "Epoch: 29, RMSE: 0.2546\n",
      "Epoch: 30, RMSE: 0.2541\n",
      "Epoch: 31, RMSE: 0.2538\n",
      "Epoch: 32, RMSE: 0.2534\n",
      "Epoch: 33, RMSE: 0.2531\n",
      "Epoch: 34, RMSE: 0.2528\n",
      "Epoch: 35, RMSE: 0.2525\n",
      "Epoch: 36, RMSE: 0.2523\n",
      "Epoch: 37, RMSE: 0.2520\n",
      "Epoch: 38, RMSE: 0.2518\n",
      "Epoch: 39, RMSE: 0.2516\n",
      "Epoch: 40, RMSE: 0.2514\n",
      "Epoch: 41, RMSE: 0.2512\n",
      "Epoch: 42, RMSE: 0.2510\n",
      "Epoch: 43, RMSE: 0.2509\n",
      "Epoch: 44, RMSE: 0.2507\n",
      "Epoch: 45, RMSE: 0.2506\n",
      "Epoch: 46, RMSE: 0.2505\n",
      "Epoch: 47, RMSE: 0.2503\n",
      "Epoch: 48, RMSE: 0.2502\n",
      "Epoch: 49, RMSE: 0.2501\n",
      "Epoch: 50, RMSE: 0.2500\n"
     ]
    }
   ],
   "source": [
    "# Usage\n",
    "nn = NeuralNetwork(**hyperparameters)\n",
    "nn.load_dataset()\n",
    "nn.train()"
   ]
  },
  {
   "cell_type": "code",
   "execution_count": 31,
   "metadata": {},
   "outputs": [],
   "source": [
    "predict_df, true_df = nn.predict()\n",
    "# nn.save_df()"
   ]
  },
  {
   "cell_type": "code",
   "execution_count": 32,
   "metadata": {},
   "outputs": [
    {
     "data": {
      "image/png": "[encoded data removed]",
      "text/plain": [
       "<Figure size 640x480 with 1 Axes>"
      ]
     },
     "metadata": {},
     "output_type": "display_data"
    }
   ],
   "source": [
    "nn.loss_plot()"
   ]
  },
  {
   "cell_type": "code",
   "execution_count": 33,
   "metadata": {},
   "outputs": [
    {
     "data": {
      "image/png": "[encoded data removed]",
      "text/plain": [
       "<Figure size 640x480 with 1 Axes>"
      ]
     },
     "metadata": {},
     "output_type": "display_data"
    }
   ],
   "source": [
    "nn.predict_plot()"
   ]
  }
 ],
 "metadata": {
  "kernelspec": {
   "display_name": "Python 3",
   "language": "python",
   "name": "python3"
  },
  "language_info": {
   "codemirror_mode": {
    "name": "ipython",
    "version": 3
   },
   "file_extension": ".py",
   "mimetype": "text/x-python",
   "name": "python",
   "nbconvert_exporter": "python",
   "pygments_lexer": "ipython3",
   "version": "3.11.5"
  }
 },
 "nbformat": 4,
 "nbformat_minor": 2
}
